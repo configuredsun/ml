{
 "cells": [
  {
   "cell_type": "code",
   "execution_count": 1,
   "metadata": {},
   "outputs": [],
   "source": [
    "import pandas\n",
    "import numpy as np\n",
    "from sklearn.metrics import precision_score, recall_score, accuracy_score\n",
    "from sklearn.model_selection import StratifiedKFold\n",
    "from sklearn.utils import check_random_state\n",
    "from sklearn import preprocessing\n",
    "from sklearn.model_selection import train_test_split\n",
    "from sklearn.linear_model import LogisticRegression\n",
    "from sklearn.neighbors import KNeighborsClassifier\n",
    "from sklearn.tree import DecisionTreeClassifier\n",
    "from sklearn.svm import SVC\n",
    "import pandas as pd\n",
    "import warnings\n",
    "warnings.filterwarnings(\"ignore\")"
   ]
  },
  {
   "cell_type": "code",
   "execution_count": 2,
   "metadata": {},
   "outputs": [],
   "source": [
    "def print_metrics(Method, X, y, folds = 5, average = 'macro'):\n",
    "  kf = StratifiedKFold(n_splits = folds, random_state = 123, shuffle = True)\n",
    "  precision = np.zeros(folds)   \n",
    "  recall = np.zeros(folds)  \n",
    "  testAc = np.zeros(folds)\n",
    "  trainAc = np.zeros(folds)\n",
    "  for i, (trainI, valI) in enumerate(kf.split(X, y)):\n",
    "    XT, yT = X.loc[trainI].to_numpy(), y.loc[trainI].to_numpy()\n",
    "    XV, yV = X.loc[valI].to_numpy(), y.loc[valI].to_numpy()\n",
    "    Method.fit(XT, yT)\n",
    "    yP = Method.predict(XV)\n",
    "    yTP = Method.predict(XT)\n",
    "    precision[i] = precision_score(yV, yP, average = average)\n",
    "    recall[i] = recall_score(yV, yP, average = average)\n",
    "    trainAc[i] = accuracy_score(yT, yTP)\n",
    "    testAc[i] = accuracy_score(yV, yP)    \n",
    "  print(\"precision:\", precision.mean(), \"\\nrecall:\", recall.mean(), \"\\n\\ntrain_accuracy:\", trainAc.mean(), \"\\ntest_accuracy:\", testAc.mean())"
   ]
  },
  {
   "cell_type": "code",
   "execution_count": 3,
   "metadata": {},
   "outputs": [],
   "source": [
    "class LogRegression():\n",
    "    def __init__(self, lr=0.01, num_iter=1000):\n",
    "        self.lr = lr\n",
    "        self.num_iter = num_iter\n",
    "\n",
    "    def getIntercept(self, X):\n",
    "        intercept = np.ones((X.shape[0], 1))\n",
    "        return np.hstack((intercept, X))\n",
    "\n",
    "    def sigmoid(self, z):\n",
    "        return 1 / (1 + np.exp(-z))\n",
    "\n",
    "    def loss(self, h, y):\n",
    "        return (-y * np.log(h) - (1 - y) * np.log(1 - h)).mean()\n",
    "\n",
    "    def fit(self, X, y):\n",
    "        X = self.getIntercept(X)\n",
    "        self.coef_ = np.zeros(X.shape[1])  # weights\n",
    "\n",
    "        for _ in range(self.num_iter):\n",
    "            z = np.dot(X, self.coef_)\n",
    "            h = self.sigmoid(z)\n",
    "            gradient = np.dot(X.T, (h - y)) / y.size\n",
    "            self.coef_ -= self.lr * gradient\n",
    "\n",
    "    def predict_prob(self, X):\n",
    "        X = self.getIntercept(X)\n",
    "        return self.sigmoid(np.dot(X, self.coef_))\n",
    "\n",
    "    def predict(self, X):\n",
    "        return self.predict_prob(X).round()"
   ]
  },
  {
   "cell_type": "code",
   "execution_count": 4,
   "metadata": {},
   "outputs": [],
   "source": [
    "class KNN():\n",
    "  def __init__(self, neighbors = 5):\n",
    "    self.nei = neighbors\n",
    "    \n",
    "  def fit(self, X, y):\n",
    "    self.X = X\n",
    "    self.y = y.reshape((y.shape[0], 1))\n",
    "\n",
    "  def Distances(self, p):\n",
    "    t = self.X - p\n",
    "    return np.sqrt((t ** 2).sum(1))\n",
    "\n",
    "  def predict(self, X):\n",
    "    n = X.shape[0]\n",
    "    pred = np.zeros((n, 1))\n",
    "    for i in range(n):\n",
    "      d = self.Distances(X[i])\n",
    "      sorted = self.y[np.argsort(d)].flatten()\n",
    "      if sorted[:self.nei].sum() > self.nei / 2:\n",
    "        pred[i] = 1.0\n",
    "    return pred"
   ]
  },
  {
   "cell_type": "code",
   "execution_count": 5,
   "metadata": {},
   "outputs": [],
   "source": [
    "class Node():\n",
    "  def __init__(self, predClass):\n",
    "    self.predClass = predClass\n",
    "    self.index = 0\n",
    "    self.threshold = 0\n",
    "    self.left = None\n",
    "    self.right = None\n",
    "\n",
    "class DecisionTree():\n",
    "  def __init__(self, maxDepth = 1, rf = False):\n",
    "    self.maxDepth = maxDepth\n",
    "    self.rf = rf\n",
    "\n",
    "  def fit(self, X, y, maxFeatures = None):\n",
    "    self.classes = len(set(y))\n",
    "    if not self.rf:\n",
    "      Features = X.shape[1]\n",
    "    else:\n",
    "      ind = np.random.choice(X.shape[0], X.shape[0])\n",
    "      X, y = X[tuple([ind])], y[tuple([ind])]\n",
    "      if maxFeatures is None:\n",
    "        Features = np.sqrt(X.shape[1]).astype(int)\n",
    "      else:\n",
    "        Features = maxFeatures\n",
    "    self.features = np.sort(np.random.choice(X.shape[1], Features, replace = False))\n",
    "    self.tree = self.GrowTree(X, y)\n",
    "\n",
    "  def predict(self, X):\n",
    "    list = []\n",
    "    for inputs in X:\n",
    "      node = self.tree\n",
    "      while node.left:\n",
    "        if inputs[node.featureIndex] < node.threshold:\n",
    "          node = node.left\n",
    "        else:\n",
    "          node = node.right\n",
    "      list.append(node.predClass)\n",
    "    return list\n",
    "\n",
    "  def Split(self, X, y):\n",
    "    m = y.size\n",
    "    if m <= 1:\n",
    "      return None, None\n",
    "    parent = [np.sum(y == c) for c in range(self.classes)]\n",
    "    bestGini = 1.0 - sum((n / m) ** 2 for n in parent)\n",
    "    bestIdx, bestThr = None, None\n",
    "    for idx in self.features:\n",
    "      thresholds, classes = zip(*sorted(zip(X[:, idx], y)))\n",
    "      left = [0] * self.classes\n",
    "      right = parent.copy()\n",
    "      for i in range(1, m):\n",
    "        c = classes[i - 1]\n",
    "        left[c] += 1\n",
    "        right[c] -= 1\n",
    "        giniLeft = 1.0 - sum((left[x] / i) ** 2 for x in range(self.classes))\n",
    "        giniRight = 1.0 - sum((right[x] / (m - i)) ** 2 for x in range(self.classes))\n",
    "        gini = (i * giniLeft + (m - i) * giniRight) / m\n",
    "        if thresholds[i] == thresholds[i - 1]:\n",
    "          continue\n",
    "        if gini < bestGini:\n",
    "          bestGini = gini\n",
    "          bestIdx = idx\n",
    "          bestThr = (thresholds[i] + thresholds[i - 1]) / 2\n",
    "    return bestIdx, bestThr\n",
    "\n",
    "  def GrowTree(self, X, y, depth = 0):\n",
    "    samplesPerClass = [np.sum(y == i) for i in range(self.classes)]\n",
    "    predClass = np.argmax(samplesPerClass)\n",
    "    node = Node(predClass = predClass)\n",
    "    if depth < self.maxDepth:\n",
    "      idx, thr = self.Split(X, y)\n",
    "      if idx is not None:\n",
    "        indicesLeft = X[:, idx] < thr\n",
    "        XLeft, yLeft = X[indicesLeft], y[indicesLeft]\n",
    "        XRight, yRight = X[~indicesLeft], y[~indicesLeft]\n",
    "        node.featureIndex = idx\n",
    "        node.threshold = thr\n",
    "        node.left = self.GrowTree(XLeft, yLeft, depth + 1)\n",
    "        node.right = self.GrowTree(XRight, yRight, depth + 1)\n",
    "    return node"
   ]
  },
  {
   "cell_type": "code",
   "execution_count": 6,
   "metadata": {},
   "outputs": [],
   "source": [
    "class SVM:\n",
    "  def __init__(self, C = 1, maxIter = 100, eps = 0.01, randomState = None, verbose = 0):\n",
    "    self.C = C\n",
    "    self.maxIter = maxIter\n",
    "    self.eps = eps\n",
    "    self.randomState = randomState\n",
    "    self.verbose = verbose\n",
    "\n",
    "  def PartialGradient(self, X, y, i):\n",
    "    g = np.dot(X[i], self.coef.T) + 1\n",
    "    return g\n",
    "\n",
    "  def Violation(self, g, y, i):\n",
    "    smallest = np.inf\n",
    "    for k in range(g.shape[0]):\n",
    "      if k == y[i] and self.dualCoef[k, i] >= self.C:\n",
    "        continue\n",
    "      elif k != y[i] and self.dualCoef[k, i] >= 0:\n",
    "        continue\n",
    "      smallest = min(smallest, g[k])\n",
    "    return g.max() - smallest\n",
    "\n",
    "  def Solver(self, g, y, norms, i):\n",
    "    Ci = np.zeros(g.shape[0])\n",
    "    Ci[y[i]] = self.C\n",
    "    beta_hat = norms[i] * (Ci - self.dualCoef[:, i]) + g / norms[i]\n",
    "    z = self.C * norms[i]\n",
    "    beta = projection_simplex(beta_hat, z)\n",
    "    return Ci - self.dualCoef[:, i] - beta / norms[i]\n",
    "\n",
    "  def fit(self, X, y):\n",
    "    samples, features = X.shape\n",
    "    classes = 4\n",
    "    self.dualCoef = np.zeros((classes, samples), dtype = np.float64)\n",
    "    self.coef = np.zeros((classes, features))\n",
    "    norms = np.sqrt(np.sum(X ** 2, axis = 1))\n",
    "    rs = check_random_state(self.randomState)\n",
    "    ind = np.arange(samples)\n",
    "    rs.shuffle(ind)\n",
    "    violationInit = None\n",
    "    for it in range(self.maxIter):\n",
    "      violationSum = 0\n",
    "      for idx in range(samples):\n",
    "        i = ind[idx]\n",
    "        if norms[i] == 0:\n",
    "          continue\n",
    "        g = self.PartialGradient(X, y, i)\n",
    "        v = self.Violation(g, y, i)\n",
    "        violationSum += v\n",
    "        if v < 1e-12:\n",
    "          continue\n",
    "        delta = self.Solver(g, y, norms, i)\n",
    "        self.coef += (delta * X[i][:, np.newaxis]).T\n",
    "        self.dualCoef[:, i] += delta\n",
    "      if it == 0:\n",
    "        violationInit = violationSum\n",
    "      vratio = violationSum / violationInit\n",
    "      if vratio < self.eps:\n",
    "        break\n",
    "    return self\n",
    "\n",
    "  def predict(self, X):\n",
    "    decision = np.dot(X, self.coef.T)\n",
    "    pred = decision.argmax(axis = 1)\n",
    "    return pred"
   ]
  },
  {
   "cell_type": "code",
   "execution_count": 7,
   "metadata": {},
   "outputs": [
    {
     "data": {
      "text/html": [
       "<div>\n",
       "<style scoped>\n",
       "    .dataframe tbody tr th:only-of-type {\n",
       "        vertical-align: middle;\n",
       "    }\n",
       "\n",
       "    .dataframe tbody tr th {\n",
       "        vertical-align: top;\n",
       "    }\n",
       "\n",
       "    .dataframe thead th {\n",
       "        text-align: right;\n",
       "    }\n",
       "</style>\n",
       "<table border=\"1\" class=\"dataframe\">\n",
       "  <thead>\n",
       "    <tr style=\"text-align: right;\">\n",
       "      <th></th>\n",
       "      <th>Unnamed: 0</th>\n",
       "      <th>blueWins</th>\n",
       "      <th>blueFirstBlood</th>\n",
       "      <th>blueKills</th>\n",
       "      <th>blueDeaths</th>\n",
       "      <th>blueAssists</th>\n",
       "      <th>blueEliteMonsters</th>\n",
       "      <th>blueDragons</th>\n",
       "      <th>blueTotalGold</th>\n",
       "      <th>blueTotalExperience</th>\n",
       "    </tr>\n",
       "  </thead>\n",
       "  <tbody>\n",
       "    <tr>\n",
       "      <th>0</th>\n",
       "      <td>0</td>\n",
       "      <td>0</td>\n",
       "      <td>1</td>\n",
       "      <td>9</td>\n",
       "      <td>6</td>\n",
       "      <td>11</td>\n",
       "      <td>0</td>\n",
       "      <td>0</td>\n",
       "      <td>17210</td>\n",
       "      <td>17039</td>\n",
       "    </tr>\n",
       "    <tr>\n",
       "      <th>1</th>\n",
       "      <td>1</td>\n",
       "      <td>0</td>\n",
       "      <td>0</td>\n",
       "      <td>5</td>\n",
       "      <td>5</td>\n",
       "      <td>5</td>\n",
       "      <td>0</td>\n",
       "      <td>0</td>\n",
       "      <td>14712</td>\n",
       "      <td>16265</td>\n",
       "    </tr>\n",
       "    <tr>\n",
       "      <th>2</th>\n",
       "      <td>2</td>\n",
       "      <td>0</td>\n",
       "      <td>0</td>\n",
       "      <td>7</td>\n",
       "      <td>11</td>\n",
       "      <td>4</td>\n",
       "      <td>1</td>\n",
       "      <td>1</td>\n",
       "      <td>16113</td>\n",
       "      <td>16221</td>\n",
       "    </tr>\n",
       "    <tr>\n",
       "      <th>3</th>\n",
       "      <td>3</td>\n",
       "      <td>0</td>\n",
       "      <td>0</td>\n",
       "      <td>4</td>\n",
       "      <td>5</td>\n",
       "      <td>5</td>\n",
       "      <td>1</td>\n",
       "      <td>0</td>\n",
       "      <td>15157</td>\n",
       "      <td>17954</td>\n",
       "    </tr>\n",
       "    <tr>\n",
       "      <th>4</th>\n",
       "      <td>4</td>\n",
       "      <td>0</td>\n",
       "      <td>0</td>\n",
       "      <td>6</td>\n",
       "      <td>6</td>\n",
       "      <td>6</td>\n",
       "      <td>0</td>\n",
       "      <td>0</td>\n",
       "      <td>16400</td>\n",
       "      <td>18543</td>\n",
       "    </tr>\n",
       "  </tbody>\n",
       "</table>\n",
       "</div>"
      ],
      "text/plain": [
       "   Unnamed: 0  blueWins  blueFirstBlood  blueKills  blueDeaths  blueAssists  \\\n",
       "0           0         0               1          9           6           11   \n",
       "1           1         0               0          5           5            5   \n",
       "2           2         0               0          7          11            4   \n",
       "3           3         0               0          4           5            5   \n",
       "4           4         0               0          6           6            6   \n",
       "\n",
       "   blueEliteMonsters  blueDragons  blueTotalGold  blueTotalExperience  \n",
       "0                  0            0          17210                17039  \n",
       "1                  0            0          14712                16265  \n",
       "2                  1            1          16113                16221  \n",
       "3                  1            0          15157                17954  \n",
       "4                  0            0          16400                18543  "
      ]
     },
     "execution_count": 7,
     "metadata": {},
     "output_type": "execute_result"
    }
   ],
   "source": [
    "#для данных по lol\n",
    "lol = pd.read_csv(\"lol_clean.csv\")\n",
    "lol.head()"
   ]
  },
  {
   "cell_type": "code",
   "execution_count": 8,
   "metadata": {},
   "outputs": [
    {
     "data": {
      "text/html": [
       "<div>\n",
       "<style scoped>\n",
       "    .dataframe tbody tr th:only-of-type {\n",
       "        vertical-align: middle;\n",
       "    }\n",
       "\n",
       "    .dataframe tbody tr th {\n",
       "        vertical-align: top;\n",
       "    }\n",
       "\n",
       "    .dataframe thead th {\n",
       "        text-align: right;\n",
       "    }\n",
       "</style>\n",
       "<table border=\"1\" class=\"dataframe\">\n",
       "  <thead>\n",
       "    <tr style=\"text-align: right;\">\n",
       "      <th></th>\n",
       "      <th>blueWins</th>\n",
       "      <th>blueFirstBlood</th>\n",
       "      <th>blueKills</th>\n",
       "      <th>blueDeaths</th>\n",
       "      <th>blueAssists</th>\n",
       "      <th>blueEliteMonsters</th>\n",
       "      <th>blueDragons</th>\n",
       "      <th>blueTotalGold</th>\n",
       "      <th>blueTotalExperience</th>\n",
       "    </tr>\n",
       "  </thead>\n",
       "  <tbody>\n",
       "    <tr>\n",
       "      <th>0</th>\n",
       "      <td>0</td>\n",
       "      <td>1</td>\n",
       "      <td>9</td>\n",
       "      <td>6</td>\n",
       "      <td>11</td>\n",
       "      <td>0</td>\n",
       "      <td>0</td>\n",
       "      <td>17210</td>\n",
       "      <td>17039</td>\n",
       "    </tr>\n",
       "    <tr>\n",
       "      <th>1</th>\n",
       "      <td>0</td>\n",
       "      <td>0</td>\n",
       "      <td>5</td>\n",
       "      <td>5</td>\n",
       "      <td>5</td>\n",
       "      <td>0</td>\n",
       "      <td>0</td>\n",
       "      <td>14712</td>\n",
       "      <td>16265</td>\n",
       "    </tr>\n",
       "    <tr>\n",
       "      <th>2</th>\n",
       "      <td>0</td>\n",
       "      <td>0</td>\n",
       "      <td>7</td>\n",
       "      <td>11</td>\n",
       "      <td>4</td>\n",
       "      <td>1</td>\n",
       "      <td>1</td>\n",
       "      <td>16113</td>\n",
       "      <td>16221</td>\n",
       "    </tr>\n",
       "    <tr>\n",
       "      <th>3</th>\n",
       "      <td>0</td>\n",
       "      <td>0</td>\n",
       "      <td>4</td>\n",
       "      <td>5</td>\n",
       "      <td>5</td>\n",
       "      <td>1</td>\n",
       "      <td>0</td>\n",
       "      <td>15157</td>\n",
       "      <td>17954</td>\n",
       "    </tr>\n",
       "    <tr>\n",
       "      <th>4</th>\n",
       "      <td>0</td>\n",
       "      <td>0</td>\n",
       "      <td>6</td>\n",
       "      <td>6</td>\n",
       "      <td>6</td>\n",
       "      <td>0</td>\n",
       "      <td>0</td>\n",
       "      <td>16400</td>\n",
       "      <td>18543</td>\n",
       "    </tr>\n",
       "  </tbody>\n",
       "</table>\n",
       "</div>"
      ],
      "text/plain": [
       "   blueWins  blueFirstBlood  blueKills  blueDeaths  blueAssists  \\\n",
       "0         0               1          9           6           11   \n",
       "1         0               0          5           5            5   \n",
       "2         0               0          7          11            4   \n",
       "3         0               0          4           5            5   \n",
       "4         0               0          6           6            6   \n",
       "\n",
       "   blueEliteMonsters  blueDragons  blueTotalGold  blueTotalExperience  \n",
       "0                  0            0          17210                17039  \n",
       "1                  0            0          14712                16265  \n",
       "2                  1            1          16113                16221  \n",
       "3                  1            0          15157                17954  \n",
       "4                  0            0          16400                18543  "
      ]
     },
     "execution_count": 8,
     "metadata": {},
     "output_type": "execute_result"
    }
   ],
   "source": [
    "lol = lol.drop('Unnamed: 0', axis = 1)\n",
    "lol.head()"
   ]
  },
  {
   "cell_type": "code",
   "execution_count": 9,
   "metadata": {},
   "outputs": [],
   "source": [
    "X, y = lol.drop([\"blueWins\"], axis=1), lol[\"blueWins\"]"
   ]
  },
  {
   "cell_type": "code",
   "execution_count": 10,
   "metadata": {},
   "outputs": [
    {
     "name": "stdout",
     "output_type": "stream",
     "text": [
      "precision: 0.6071437491170971 \n",
      "recall: 0.511796369567983 \n",
      "\n",
      "train_accuracy: 0.5128301928596787 \n",
      "test_accuracy: 0.5127029160047148\n",
      "Wall time: 2.46 s\n"
     ]
    }
   ],
   "source": [
    "%%time\n",
    "print_metrics(LogRegression(), X, y)"
   ]
  },
  {
   "cell_type": "code",
   "execution_count": 11,
   "metadata": {},
   "outputs": [
    {
     "name": "stdout",
     "output_type": "stream",
     "text": [
      "precision: 0.7067735429738413 \n",
      "recall: 0.706562360738132 \n",
      "\n",
      "train_accuracy: 0.7072072768963358 \n",
      "test_accuracy: 0.7065501973043613\n",
      "Wall time: 149 ms\n"
     ]
    }
   ],
   "source": [
    "%%time\n",
    "print_metrics(LogisticRegression(), X, y)"
   ]
  },
  {
   "cell_type": "code",
   "execution_count": 12,
   "metadata": {},
   "outputs": [
    {
     "name": "stdout",
     "output_type": "stream",
     "text": [
      "precision: 0.6427686119372595 \n",
      "recall: 0.6333197794006036 \n",
      "\n",
      "train_accuracy: 0.7550359629997526 \n",
      "test_accuracy: 0.6335672116025213\n",
      "Wall time: 1.39 s\n"
     ]
    }
   ],
   "source": [
    "%%time\n",
    "print_metrics(KNeighborsClassifier(n_neighbors = 4), X, y)"
   ]
  },
  {
   "cell_type": "code",
   "execution_count": 13,
   "metadata": {},
   "outputs": [
    {
     "name": "stdout",
     "output_type": "stream",
     "text": [
      "precision: 0.6428597908492639 \n",
      "recall: 0.6334211992788997 \n",
      "\n",
      "train_accuracy: 0.7550106593560278 \n",
      "test_accuracy: 0.63366842617742\n",
      "Wall time: 37.2 s\n"
     ]
    }
   ],
   "source": [
    "%%time\n",
    "print_metrics(KNN(neighbors = 4), X, y)"
   ]
  },
  {
   "cell_type": "code",
   "execution_count": 14,
   "metadata": {},
   "outputs": [
    {
     "name": "stdout",
     "output_type": "stream",
     "text": [
      "precision: 0.7178974395107575 \n",
      "recall: 0.7174751458578219 \n",
      "\n",
      "train_accuracy: 0.7261615982963472 \n",
      "test_accuracy: 0.7174823451032644\n",
      "Wall time: 10.8 s\n"
     ]
    }
   ],
   "source": [
    "%%time\n",
    "print_metrics(DecisionTree(maxDepth = 5), X, y)"
   ]
  },
  {
   "cell_type": "code",
   "execution_count": 15,
   "metadata": {},
   "outputs": [
    {
     "name": "stdout",
     "output_type": "stream",
     "text": [
      "precision: 0.7180096730132519 \n",
      "recall: 0.717575746181546 \n",
      "\n",
      "train_accuracy: 0.7261615982963472 \n",
      "test_accuracy: 0.7175835596781632\n",
      "Wall time: 99 ms\n"
     ]
    }
   ],
   "source": [
    "%%time\n",
    "print_metrics(DecisionTreeClassifier(max_depth = 5), X, y)"
   ]
  },
  {
   "cell_type": "code",
   "execution_count": 16,
   "metadata": {},
   "outputs": [
    {
     "name": "stdout",
     "output_type": "stream",
     "text": [
      "precision: 0.2504808076666838 \n",
      "recall: 0.5 \n",
      "\n",
      "train_accuracy: 0.5009616345148488 \n",
      "test_accuracy: 0.5009616153333676\n",
      "Wall time: 1min 1s\n"
     ]
    }
   ],
   "source": [
    "%%time\n",
    "print_metrics(SVM(), X, y)"
   ]
  },
  {
   "cell_type": "code",
   "execution_count": 17,
   "metadata": {},
   "outputs": [
    {
     "name": "stdout",
     "output_type": "stream",
     "text": [
      "precision: 0.5000392498484223 \n",
      "recall: 0.4997248395244404 \n",
      "\n",
      "train_accuracy: 1.0 \n",
      "test_accuracy: 0.5006578691128991\n",
      "Wall time: 50.4 s\n"
     ]
    }
   ],
   "source": [
    "%%time\n",
    "print_metrics(SVC(decision_function_shape = 'ovr'), X, y)"
   ]
  },
  {
   "cell_type": "code",
   "execution_count": 34,
   "metadata": {},
   "outputs": [
    {
     "data": {
      "text/html": [
       "<div>\n",
       "<style scoped>\n",
       "    .dataframe tbody tr th:only-of-type {\n",
       "        vertical-align: middle;\n",
       "    }\n",
       "\n",
       "    .dataframe tbody tr th {\n",
       "        vertical-align: top;\n",
       "    }\n",
       "\n",
       "    .dataframe thead th {\n",
       "        text-align: right;\n",
       "    }\n",
       "</style>\n",
       "<table border=\"1\" class=\"dataframe\">\n",
       "  <thead>\n",
       "    <tr style=\"text-align: right;\">\n",
       "      <th></th>\n",
       "      <th>Unnamed: 0</th>\n",
       "      <th>hotel</th>\n",
       "      <th>is_canceled</th>\n",
       "      <th>lead_time</th>\n",
       "      <th>adults</th>\n",
       "      <th>babies</th>\n",
       "      <th>country</th>\n",
       "      <th>market_segment</th>\n",
       "      <th>is_repeated_guest</th>\n",
       "      <th>previous_cancellations</th>\n",
       "      <th>booking_changes</th>\n",
       "      <th>days_in_waiting_list</th>\n",
       "      <th>customer_type</th>\n",
       "      <th>required_car_parking_spaces</th>\n",
       "      <th>total_of_special_requests</th>\n",
       "    </tr>\n",
       "  </thead>\n",
       "  <tbody>\n",
       "    <tr>\n",
       "      <th>0</th>\n",
       "      <td>0</td>\n",
       "      <td>1</td>\n",
       "      <td>0</td>\n",
       "      <td>342</td>\n",
       "      <td>2</td>\n",
       "      <td>0</td>\n",
       "      <td>135</td>\n",
       "      <td>3</td>\n",
       "      <td>0</td>\n",
       "      <td>0</td>\n",
       "      <td>3</td>\n",
       "      <td>0</td>\n",
       "      <td>2</td>\n",
       "      <td>0</td>\n",
       "      <td>0</td>\n",
       "    </tr>\n",
       "    <tr>\n",
       "      <th>1</th>\n",
       "      <td>1</td>\n",
       "      <td>1</td>\n",
       "      <td>0</td>\n",
       "      <td>737</td>\n",
       "      <td>2</td>\n",
       "      <td>0</td>\n",
       "      <td>135</td>\n",
       "      <td>3</td>\n",
       "      <td>0</td>\n",
       "      <td>0</td>\n",
       "      <td>4</td>\n",
       "      <td>0</td>\n",
       "      <td>2</td>\n",
       "      <td>0</td>\n",
       "      <td>0</td>\n",
       "    </tr>\n",
       "    <tr>\n",
       "      <th>2</th>\n",
       "      <td>2</td>\n",
       "      <td>1</td>\n",
       "      <td>0</td>\n",
       "      <td>7</td>\n",
       "      <td>1</td>\n",
       "      <td>0</td>\n",
       "      <td>59</td>\n",
       "      <td>3</td>\n",
       "      <td>0</td>\n",
       "      <td>0</td>\n",
       "      <td>0</td>\n",
       "      <td>0</td>\n",
       "      <td>2</td>\n",
       "      <td>0</td>\n",
       "      <td>0</td>\n",
       "    </tr>\n",
       "    <tr>\n",
       "      <th>3</th>\n",
       "      <td>3</td>\n",
       "      <td>1</td>\n",
       "      <td>0</td>\n",
       "      <td>13</td>\n",
       "      <td>1</td>\n",
       "      <td>0</td>\n",
       "      <td>59</td>\n",
       "      <td>2</td>\n",
       "      <td>0</td>\n",
       "      <td>0</td>\n",
       "      <td>0</td>\n",
       "      <td>0</td>\n",
       "      <td>2</td>\n",
       "      <td>0</td>\n",
       "      <td>0</td>\n",
       "    </tr>\n",
       "    <tr>\n",
       "      <th>4</th>\n",
       "      <td>4</td>\n",
       "      <td>1</td>\n",
       "      <td>0</td>\n",
       "      <td>14</td>\n",
       "      <td>2</td>\n",
       "      <td>0</td>\n",
       "      <td>59</td>\n",
       "      <td>6</td>\n",
       "      <td>0</td>\n",
       "      <td>0</td>\n",
       "      <td>0</td>\n",
       "      <td>0</td>\n",
       "      <td>2</td>\n",
       "      <td>0</td>\n",
       "      <td>1</td>\n",
       "    </tr>\n",
       "  </tbody>\n",
       "</table>\n",
       "</div>"
      ],
      "text/plain": [
       "   Unnamed: 0  hotel  is_canceled  lead_time  adults  babies  country  \\\n",
       "0           0      1            0        342       2       0      135   \n",
       "1           1      1            0        737       2       0      135   \n",
       "2           2      1            0          7       1       0       59   \n",
       "3           3      1            0         13       1       0       59   \n",
       "4           4      1            0         14       2       0       59   \n",
       "\n",
       "   market_segment  is_repeated_guest  previous_cancellations  booking_changes  \\\n",
       "0               3                  0                       0                3   \n",
       "1               3                  0                       0                4   \n",
       "2               3                  0                       0                0   \n",
       "3               2                  0                       0                0   \n",
       "4               6                  0                       0                0   \n",
       "\n",
       "   days_in_waiting_list  customer_type  required_car_parking_spaces  \\\n",
       "0                     0              2                            0   \n",
       "1                     0              2                            0   \n",
       "2                     0              2                            0   \n",
       "3                     0              2                            0   \n",
       "4                     0              2                            0   \n",
       "\n",
       "   total_of_special_requests  \n",
       "0                          0  \n",
       "1                          0  \n",
       "2                          0  \n",
       "3                          0  \n",
       "4                          1  "
      ]
     },
     "execution_count": 34,
     "metadata": {},
     "output_type": "execute_result"
    }
   ],
   "source": [
    "#для данных по гостиницам\n",
    "hotel = pd.read_csv(\"hotel_clean.csv\")\n",
    "hotel.head()"
   ]
  },
  {
   "cell_type": "code",
   "execution_count": 19,
   "metadata": {},
   "outputs": [
    {
     "data": {
      "text/html": [
       "<div>\n",
       "<style scoped>\n",
       "    .dataframe tbody tr th:only-of-type {\n",
       "        vertical-align: middle;\n",
       "    }\n",
       "\n",
       "    .dataframe tbody tr th {\n",
       "        vertical-align: top;\n",
       "    }\n",
       "\n",
       "    .dataframe thead th {\n",
       "        text-align: right;\n",
       "    }\n",
       "</style>\n",
       "<table border=\"1\" class=\"dataframe\">\n",
       "  <thead>\n",
       "    <tr style=\"text-align: right;\">\n",
       "      <th></th>\n",
       "      <th>hotel</th>\n",
       "      <th>is_canceled</th>\n",
       "      <th>lead_time</th>\n",
       "      <th>adults</th>\n",
       "      <th>babies</th>\n",
       "      <th>country</th>\n",
       "      <th>market_segment</th>\n",
       "      <th>is_repeated_guest</th>\n",
       "      <th>previous_cancellations</th>\n",
       "      <th>booking_changes</th>\n",
       "      <th>days_in_waiting_list</th>\n",
       "      <th>customer_type</th>\n",
       "      <th>required_car_parking_spaces</th>\n",
       "      <th>total_of_special_requests</th>\n",
       "    </tr>\n",
       "  </thead>\n",
       "  <tbody>\n",
       "    <tr>\n",
       "      <th>0</th>\n",
       "      <td>1</td>\n",
       "      <td>0</td>\n",
       "      <td>342</td>\n",
       "      <td>2</td>\n",
       "      <td>0</td>\n",
       "      <td>135</td>\n",
       "      <td>3</td>\n",
       "      <td>0</td>\n",
       "      <td>0</td>\n",
       "      <td>3</td>\n",
       "      <td>0</td>\n",
       "      <td>2</td>\n",
       "      <td>0</td>\n",
       "      <td>0</td>\n",
       "    </tr>\n",
       "    <tr>\n",
       "      <th>1</th>\n",
       "      <td>1</td>\n",
       "      <td>0</td>\n",
       "      <td>737</td>\n",
       "      <td>2</td>\n",
       "      <td>0</td>\n",
       "      <td>135</td>\n",
       "      <td>3</td>\n",
       "      <td>0</td>\n",
       "      <td>0</td>\n",
       "      <td>4</td>\n",
       "      <td>0</td>\n",
       "      <td>2</td>\n",
       "      <td>0</td>\n",
       "      <td>0</td>\n",
       "    </tr>\n",
       "    <tr>\n",
       "      <th>2</th>\n",
       "      <td>1</td>\n",
       "      <td>0</td>\n",
       "      <td>7</td>\n",
       "      <td>1</td>\n",
       "      <td>0</td>\n",
       "      <td>59</td>\n",
       "      <td>3</td>\n",
       "      <td>0</td>\n",
       "      <td>0</td>\n",
       "      <td>0</td>\n",
       "      <td>0</td>\n",
       "      <td>2</td>\n",
       "      <td>0</td>\n",
       "      <td>0</td>\n",
       "    </tr>\n",
       "    <tr>\n",
       "      <th>3</th>\n",
       "      <td>1</td>\n",
       "      <td>0</td>\n",
       "      <td>13</td>\n",
       "      <td>1</td>\n",
       "      <td>0</td>\n",
       "      <td>59</td>\n",
       "      <td>2</td>\n",
       "      <td>0</td>\n",
       "      <td>0</td>\n",
       "      <td>0</td>\n",
       "      <td>0</td>\n",
       "      <td>2</td>\n",
       "      <td>0</td>\n",
       "      <td>0</td>\n",
       "    </tr>\n",
       "    <tr>\n",
       "      <th>4</th>\n",
       "      <td>1</td>\n",
       "      <td>0</td>\n",
       "      <td>14</td>\n",
       "      <td>2</td>\n",
       "      <td>0</td>\n",
       "      <td>59</td>\n",
       "      <td>6</td>\n",
       "      <td>0</td>\n",
       "      <td>0</td>\n",
       "      <td>0</td>\n",
       "      <td>0</td>\n",
       "      <td>2</td>\n",
       "      <td>0</td>\n",
       "      <td>1</td>\n",
       "    </tr>\n",
       "  </tbody>\n",
       "</table>\n",
       "</div>"
      ],
      "text/plain": [
       "   hotel  is_canceled  lead_time  adults  babies  country  market_segment  \\\n",
       "0      1            0        342       2       0      135               3   \n",
       "1      1            0        737       2       0      135               3   \n",
       "2      1            0          7       1       0       59               3   \n",
       "3      1            0         13       1       0       59               2   \n",
       "4      1            0         14       2       0       59               6   \n",
       "\n",
       "   is_repeated_guest  previous_cancellations  booking_changes  \\\n",
       "0                  0                       0                3   \n",
       "1                  0                       0                4   \n",
       "2                  0                       0                0   \n",
       "3                  0                       0                0   \n",
       "4                  0                       0                0   \n",
       "\n",
       "   days_in_waiting_list  customer_type  required_car_parking_spaces  \\\n",
       "0                     0              2                            0   \n",
       "1                     0              2                            0   \n",
       "2                     0              2                            0   \n",
       "3                     0              2                            0   \n",
       "4                     0              2                            0   \n",
       "\n",
       "   total_of_special_requests  \n",
       "0                          0  \n",
       "1                          0  \n",
       "2                          0  \n",
       "3                          0  \n",
       "4                          1  "
      ]
     },
     "execution_count": 19,
     "metadata": {},
     "output_type": "execute_result"
    }
   ],
   "source": [
    "hotel = hotel.drop('Unnamed: 0', axis = 1)\n",
    "hotel.head()"
   ]
  },
  {
   "cell_type": "code",
   "execution_count": 20,
   "metadata": {},
   "outputs": [],
   "source": [
    "X, y = hotel.drop([\"is_canceled\"], axis=1), hotel[\"is_canceled\"] "
   ]
  },
  {
   "cell_type": "code",
   "execution_count": 21,
   "metadata": {},
   "outputs": [
    {
     "name": "stdout",
     "output_type": "stream",
     "text": [
      "precision: 0.640674028505252 \n",
      "recall: 0.5891531724414036 \n",
      "\n",
      "train_accuracy: 0.5013140716297066 \n",
      "test_accuracy: 0.5013121224020322\n",
      "Wall time: 5.89 s\n"
     ]
    }
   ],
   "source": [
    "%%time\n",
    "print_metrics(LogRegression(), X, y)"
   ]
  },
  {
   "cell_type": "code",
   "execution_count": 22,
   "metadata": {},
   "outputs": [
    {
     "name": "stdout",
     "output_type": "stream",
     "text": [
      "precision: 0.7567563502297128 \n",
      "recall: 0.7321113879955996 \n",
      "\n",
      "train_accuracy: 0.7674135019113861 \n",
      "test_accuracy: 0.7675144372664086\n",
      "Wall time: 4.18 s\n"
     ]
    }
   ],
   "source": [
    "%%time\n",
    "print_metrics(LogisticRegression(), X, y)"
   ]
  },
  {
   "cell_type": "code",
   "execution_count": 23,
   "metadata": {},
   "outputs": [
    {
     "name": "stdout",
     "output_type": "stream",
     "text": [
      "precision: 0.8108862173494711 \n",
      "recall: 0.7835592151240418 \n",
      "\n",
      "train_accuracy: 0.8700169026717237 \n",
      "test_accuracy: 0.8143176859603626\n",
      "Wall time: 39.7 s\n"
     ]
    }
   ],
   "source": [
    "%%time\n",
    "print_metrics(KNeighborsClassifier(n_neighbors = 4), X, y)"
   ]
  },
  {
   "cell_type": "code",
   "execution_count": 35,
   "metadata": {},
   "outputs": [
    {
     "name": "stdout",
     "output_type": "stream",
     "text": [
      "precision: 0.8146185759911052 \n",
      "recall: 0.7860905332540848 \n",
      "\n",
      "train_accuracy: 0.872113168395899 \n",
      "test_accuracy: 0.8171098917798728\n",
      "Wall time: 14h 59min 44s\n"
     ]
    }
   ],
   "source": [
    "%%time\n",
    "print_metrics(KNN(neighbors = 4), X, y)"
   ]
  },
  {
   "cell_type": "code",
   "execution_count": 29,
   "metadata": {},
   "outputs": [
    {
     "name": "stdout",
     "output_type": "stream",
     "text": [
      "precision: 0.7944830632848223 \n",
      "recall: 0.7768389637770171 \n",
      "\n",
      "train_accuracy: 0.8036933815142433 \n",
      "test_accuracy: 0.8034684073471239\n",
      "Wall time: 3min 30s\n"
     ]
    }
   ],
   "source": [
    "%%time\n",
    "print_metrics(DecisionTree(maxDepth = 5), X, y)"
   ]
  },
  {
   "cell_type": "code",
   "execution_count": 26,
   "metadata": {},
   "outputs": [
    {
     "name": "stdout",
     "output_type": "stream",
     "text": [
      "precision: 0.7944993331431343 \n",
      "recall: 0.7768616087045535 \n",
      "\n",
      "train_accuracy: 0.8036933815142433 \n",
      "test_accuracy: 0.8034852274976642\n",
      "Wall time: 637 ms\n"
     ]
    }
   ],
   "source": [
    "%%time\n",
    "print_metrics(DecisionTreeClassifier(max_depth = 5), X, y)"
   ]
  },
  {
   "cell_type": "code",
   "execution_count": 27,
   "metadata": {},
   "outputs": [
    {
     "name": "stdout",
     "output_type": "stream",
     "text": [
      "precision: 0.314313468367737 \n",
      "recall: 0.5 \n",
      "\n",
      "train_accuracy: 0.6286269364853627 \n",
      "test_accuracy: 0.628626936735474\n",
      "Wall time: 11min 18s\n"
     ]
    }
   ],
   "source": [
    "%%time\n",
    "print_metrics(SVM(), X, y)"
   ]
  },
  {
   "cell_type": "code",
   "execution_count": 36,
   "metadata": {},
   "outputs": [
    {
     "name": "stdout",
     "output_type": "stream",
     "text": [
      "precision: 0.8215742913998507 \n",
      "recall: 0.7867830078141742 \n",
      "\n",
      "train_accuracy: 0.846217894342443 \n",
      "test_accuracy: 0.8203983104307321\n",
      "Wall time: 1h 52min 17s\n"
     ]
    }
   ],
   "source": [
    "%%time\n",
    "print_metrics(SVC(decision_function_shape = 'ovr'), X, y)"
   ]
  },
  {
   "cell_type": "code",
   "execution_count": null,
   "metadata": {},
   "outputs": [],
   "source": []
  }
 ],
 "metadata": {
  "kernelspec": {
   "display_name": "Python 3",
   "language": "python",
   "name": "python3"
  },
  "language_info": {
   "codemirror_mode": {
    "name": "ipython",
    "version": 3
   },
   "file_extension": ".py",
   "mimetype": "text/x-python",
   "name": "python",
   "nbconvert_exporter": "python",
   "pygments_lexer": "ipython3",
   "version": "3.7.3"
  }
 },
 "nbformat": 4,
 "nbformat_minor": 2
}
